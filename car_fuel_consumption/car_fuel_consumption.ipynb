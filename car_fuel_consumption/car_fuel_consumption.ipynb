{
 "cells": [
  {
   "cell_type": "markdown",
   "metadata": {},
   "source": [
    "### Motivation\n",
    "\n",
    "It is always interesting to take decision on which fuel (2 choices) should choose, the cheaper with more consumption or the more expensive but with moderated consumption. Here in this dataset, tee consumption fuel w.r.t two fuels and related features such as speed, distance travelled, temperature inside and outside, weather conditions, AC on or off etc. are given.\n",
    "\n",
    "This is my basic approach and first project\n",
    "\n",
    "Details of features in dataset:\n",
    "- distance is the distance in kilometers i was driving\n",
    "- consume is the consumption in liters per 100 kilometers as seen in the display\n",
    "- speed is the average speed.\n",
    "- temp_inside is the setting of the heating or \"NaN\" if it was turned off\n",
    "- temp_outside is the temperature outside, taken at the end of the ride.\n",
    "- specials is a remark if it was raining, snowing or if the climatization was on (\"AC\")\n",
    "- gas type is the gas type used during the last refill\n",
    "- AC is one hot encoded, the special \"AC\". 1 for on, 0 for off.\n",
    "- rain is one-hot-encoded, the special \"rain\" and \"snow\". 1 for it was raining/snowing, 0 for it was good weather."
   ]
  },
  {
   "cell_type": "code",
   "execution_count": 2,
   "metadata": {},
   "outputs": [],
   "source": [
    "import pandas as pd\n",
    "import matplotlib.pyplot as plt\n",
    "import numpy as np\n",
    "import seaborn as sns"
   ]
  },
  {
   "cell_type": "code",
   "execution_count": 3,
   "metadata": {},
   "outputs": [],
   "source": [
    "# Load the dataset\n",
    "consumption_df = pd.read_csv('./car-consume/measurements.csv', decimal = ',') # convert ',' to '.' "
   ]
  },
  {
   "cell_type": "code",
   "execution_count": 4,
   "metadata": {},
   "outputs": [
    {
     "name": "stdout",
     "output_type": "stream",
     "text": [
      "<class 'pandas.core.frame.DataFrame'>\n",
      "RangeIndex: 388 entries, 0 to 387\n",
      "Data columns (total 12 columns):\n",
      "distance         388 non-null float64\n",
      "consume          388 non-null float64\n",
      "speed            388 non-null int64\n",
      "temp_inside      376 non-null float64\n",
      "temp_outside     388 non-null int64\n",
      "specials         93 non-null object\n",
      "gas_type         388 non-null object\n",
      "AC               388 non-null int64\n",
      "rain             388 non-null int64\n",
      "sun              388 non-null int64\n",
      "refill_liters    13 non-null float64\n",
      "refill_gas       13 non-null object\n",
      "dtypes: float64(4), int64(5), object(3)\n",
      "memory usage: 36.5+ KB\n"
     ]
    }
   ],
   "source": [
    "consumption_df.info()"
   ]
  },
  {
   "cell_type": "markdown",
   "metadata": {},
   "source": [
    "##### In columns 'temp_inside', 'specials', 'refill_liters', 'refill_gas' has  null values. The 'specials' column seems to similar to weather conditions column "
   ]
  },
  {
   "cell_type": "code",
   "execution_count": 5,
   "metadata": {},
   "outputs": [
    {
     "data": {
      "text/html": [
       "<div>\n",
       "<style scoped>\n",
       "    .dataframe tbody tr th:only-of-type {\n",
       "        vertical-align: middle;\n",
       "    }\n",
       "\n",
       "    .dataframe tbody tr th {\n",
       "        vertical-align: top;\n",
       "    }\n",
       "\n",
       "    .dataframe thead th {\n",
       "        text-align: right;\n",
       "    }\n",
       "</style>\n",
       "<table border=\"1\" class=\"dataframe\">\n",
       "  <thead>\n",
       "    <tr style=\"text-align: right;\">\n",
       "      <th></th>\n",
       "      <th>distance</th>\n",
       "      <th>consume</th>\n",
       "      <th>speed</th>\n",
       "      <th>temp_inside</th>\n",
       "      <th>temp_outside</th>\n",
       "      <th>AC</th>\n",
       "      <th>rain</th>\n",
       "      <th>sun</th>\n",
       "      <th>refill_liters</th>\n",
       "    </tr>\n",
       "  </thead>\n",
       "  <tbody>\n",
       "    <tr>\n",
       "      <th>count</th>\n",
       "      <td>388.000000</td>\n",
       "      <td>388.000000</td>\n",
       "      <td>388.000000</td>\n",
       "      <td>376.000000</td>\n",
       "      <td>388.000000</td>\n",
       "      <td>388.000000</td>\n",
       "      <td>388.000000</td>\n",
       "      <td>388.000000</td>\n",
       "      <td>13.000000</td>\n",
       "    </tr>\n",
       "    <tr>\n",
       "      <th>mean</th>\n",
       "      <td>19.652835</td>\n",
       "      <td>4.912371</td>\n",
       "      <td>41.927835</td>\n",
       "      <td>21.929521</td>\n",
       "      <td>11.358247</td>\n",
       "      <td>0.077320</td>\n",
       "      <td>0.123711</td>\n",
       "      <td>0.082474</td>\n",
       "      <td>37.115385</td>\n",
       "    </tr>\n",
       "    <tr>\n",
       "      <th>std</th>\n",
       "      <td>22.667837</td>\n",
       "      <td>1.033172</td>\n",
       "      <td>13.598524</td>\n",
       "      <td>1.010455</td>\n",
       "      <td>6.991542</td>\n",
       "      <td>0.267443</td>\n",
       "      <td>0.329677</td>\n",
       "      <td>0.275441</td>\n",
       "      <td>8.587282</td>\n",
       "    </tr>\n",
       "    <tr>\n",
       "      <th>min</th>\n",
       "      <td>1.300000</td>\n",
       "      <td>3.300000</td>\n",
       "      <td>14.000000</td>\n",
       "      <td>19.000000</td>\n",
       "      <td>-5.000000</td>\n",
       "      <td>0.000000</td>\n",
       "      <td>0.000000</td>\n",
       "      <td>0.000000</td>\n",
       "      <td>10.000000</td>\n",
       "    </tr>\n",
       "    <tr>\n",
       "      <th>25%</th>\n",
       "      <td>11.800000</td>\n",
       "      <td>4.300000</td>\n",
       "      <td>32.750000</td>\n",
       "      <td>21.500000</td>\n",
       "      <td>7.000000</td>\n",
       "      <td>0.000000</td>\n",
       "      <td>0.000000</td>\n",
       "      <td>0.000000</td>\n",
       "      <td>37.600000</td>\n",
       "    </tr>\n",
       "    <tr>\n",
       "      <th>50%</th>\n",
       "      <td>14.600000</td>\n",
       "      <td>4.700000</td>\n",
       "      <td>40.500000</td>\n",
       "      <td>22.000000</td>\n",
       "      <td>10.000000</td>\n",
       "      <td>0.000000</td>\n",
       "      <td>0.000000</td>\n",
       "      <td>0.000000</td>\n",
       "      <td>38.000000</td>\n",
       "    </tr>\n",
       "    <tr>\n",
       "      <th>75%</th>\n",
       "      <td>19.000000</td>\n",
       "      <td>5.300000</td>\n",
       "      <td>50.000000</td>\n",
       "      <td>22.500000</td>\n",
       "      <td>16.000000</td>\n",
       "      <td>0.000000</td>\n",
       "      <td>0.000000</td>\n",
       "      <td>0.000000</td>\n",
       "      <td>39.000000</td>\n",
       "    </tr>\n",
       "    <tr>\n",
       "      <th>max</th>\n",
       "      <td>216.100000</td>\n",
       "      <td>12.200000</td>\n",
       "      <td>90.000000</td>\n",
       "      <td>25.500000</td>\n",
       "      <td>31.000000</td>\n",
       "      <td>1.000000</td>\n",
       "      <td>1.000000</td>\n",
       "      <td>1.000000</td>\n",
       "      <td>45.000000</td>\n",
       "    </tr>\n",
       "  </tbody>\n",
       "</table>\n",
       "</div>"
      ],
      "text/plain": [
       "         distance     consume       speed  temp_inside  temp_outside  \\\n",
       "count  388.000000  388.000000  388.000000   376.000000    388.000000   \n",
       "mean    19.652835    4.912371   41.927835    21.929521     11.358247   \n",
       "std     22.667837    1.033172   13.598524     1.010455      6.991542   \n",
       "min      1.300000    3.300000   14.000000    19.000000     -5.000000   \n",
       "25%     11.800000    4.300000   32.750000    21.500000      7.000000   \n",
       "50%     14.600000    4.700000   40.500000    22.000000     10.000000   \n",
       "75%     19.000000    5.300000   50.000000    22.500000     16.000000   \n",
       "max    216.100000   12.200000   90.000000    25.500000     31.000000   \n",
       "\n",
       "               AC        rain         sun  refill_liters  \n",
       "count  388.000000  388.000000  388.000000      13.000000  \n",
       "mean     0.077320    0.123711    0.082474      37.115385  \n",
       "std      0.267443    0.329677    0.275441       8.587282  \n",
       "min      0.000000    0.000000    0.000000      10.000000  \n",
       "25%      0.000000    0.000000    0.000000      37.600000  \n",
       "50%      0.000000    0.000000    0.000000      38.000000  \n",
       "75%      0.000000    0.000000    0.000000      39.000000  \n",
       "max      1.000000    1.000000    1.000000      45.000000  "
      ]
     },
     "execution_count": 5,
     "metadata": {},
     "output_type": "execute_result"
    }
   ],
   "source": [
    "consumption_df.describe()"
   ]
  },
  {
   "cell_type": "code",
   "execution_count": 6,
   "metadata": {},
   "outputs": [
    {
     "data": {
      "text/html": [
       "<div>\n",
       "<style scoped>\n",
       "    .dataframe tbody tr th:only-of-type {\n",
       "        vertical-align: middle;\n",
       "    }\n",
       "\n",
       "    .dataframe tbody tr th {\n",
       "        vertical-align: top;\n",
       "    }\n",
       "\n",
       "    .dataframe thead th {\n",
       "        text-align: right;\n",
       "    }\n",
       "</style>\n",
       "<table border=\"1\" class=\"dataframe\">\n",
       "  <thead>\n",
       "    <tr style=\"text-align: right;\">\n",
       "      <th></th>\n",
       "      <th>distance</th>\n",
       "      <th>consume</th>\n",
       "      <th>speed</th>\n",
       "      <th>temp_inside</th>\n",
       "      <th>temp_outside</th>\n",
       "      <th>specials</th>\n",
       "      <th>gas_type</th>\n",
       "      <th>AC</th>\n",
       "      <th>rain</th>\n",
       "      <th>sun</th>\n",
       "      <th>refill_liters</th>\n",
       "      <th>refill_gas</th>\n",
       "    </tr>\n",
       "  </thead>\n",
       "  <tbody>\n",
       "    <tr>\n",
       "      <th>0</th>\n",
       "      <td>28.0</td>\n",
       "      <td>5.0</td>\n",
       "      <td>26</td>\n",
       "      <td>21.5</td>\n",
       "      <td>12</td>\n",
       "      <td>NaN</td>\n",
       "      <td>E10</td>\n",
       "      <td>0</td>\n",
       "      <td>0</td>\n",
       "      <td>0</td>\n",
       "      <td>45.0</td>\n",
       "      <td>E10</td>\n",
       "    </tr>\n",
       "    <tr>\n",
       "      <th>1</th>\n",
       "      <td>12.0</td>\n",
       "      <td>4.2</td>\n",
       "      <td>30</td>\n",
       "      <td>21.5</td>\n",
       "      <td>13</td>\n",
       "      <td>NaN</td>\n",
       "      <td>E10</td>\n",
       "      <td>0</td>\n",
       "      <td>0</td>\n",
       "      <td>0</td>\n",
       "      <td>NaN</td>\n",
       "      <td>NaN</td>\n",
       "    </tr>\n",
       "    <tr>\n",
       "      <th>2</th>\n",
       "      <td>11.2</td>\n",
       "      <td>5.5</td>\n",
       "      <td>38</td>\n",
       "      <td>21.5</td>\n",
       "      <td>15</td>\n",
       "      <td>NaN</td>\n",
       "      <td>E10</td>\n",
       "      <td>0</td>\n",
       "      <td>0</td>\n",
       "      <td>0</td>\n",
       "      <td>NaN</td>\n",
       "      <td>NaN</td>\n",
       "    </tr>\n",
       "    <tr>\n",
       "      <th>3</th>\n",
       "      <td>12.9</td>\n",
       "      <td>3.9</td>\n",
       "      <td>36</td>\n",
       "      <td>21.5</td>\n",
       "      <td>14</td>\n",
       "      <td>NaN</td>\n",
       "      <td>E10</td>\n",
       "      <td>0</td>\n",
       "      <td>0</td>\n",
       "      <td>0</td>\n",
       "      <td>NaN</td>\n",
       "      <td>NaN</td>\n",
       "    </tr>\n",
       "    <tr>\n",
       "      <th>4</th>\n",
       "      <td>18.5</td>\n",
       "      <td>4.5</td>\n",
       "      <td>46</td>\n",
       "      <td>21.5</td>\n",
       "      <td>15</td>\n",
       "      <td>NaN</td>\n",
       "      <td>E10</td>\n",
       "      <td>0</td>\n",
       "      <td>0</td>\n",
       "      <td>0</td>\n",
       "      <td>NaN</td>\n",
       "      <td>NaN</td>\n",
       "    </tr>\n",
       "  </tbody>\n",
       "</table>\n",
       "</div>"
      ],
      "text/plain": [
       "   distance  consume  speed  temp_inside  temp_outside specials gas_type  AC  \\\n",
       "0      28.0      5.0     26         21.5            12      NaN      E10   0   \n",
       "1      12.0      4.2     30         21.5            13      NaN      E10   0   \n",
       "2      11.2      5.5     38         21.5            15      NaN      E10   0   \n",
       "3      12.9      3.9     36         21.5            14      NaN      E10   0   \n",
       "4      18.5      4.5     46         21.5            15      NaN      E10   0   \n",
       "\n",
       "   rain  sun  refill_liters refill_gas  \n",
       "0     0    0           45.0        E10  \n",
       "1     0    0            NaN        NaN  \n",
       "2     0    0            NaN        NaN  \n",
       "3     0    0            NaN        NaN  \n",
       "4     0    0            NaN        NaN  "
      ]
     },
     "execution_count": 6,
     "metadata": {},
     "output_type": "execute_result"
    }
   ],
   "source": [
    "consumption_df.head()"
   ]
  },
  {
   "cell_type": "code",
   "execution_count": 7,
   "metadata": {},
   "outputs": [
    {
     "name": "stdout",
     "output_type": "stream",
     "text": [
      "refill_gas       375\n",
      "refill_liters    375\n",
      "specials         295\n",
      "temp_inside       12\n",
      "sun                0\n",
      "rain               0\n",
      "AC                 0\n",
      "gas_type           0\n",
      "temp_outside       0\n",
      "speed              0\n",
      "consume            0\n",
      "distance           0\n",
      "dtype: int64\n"
     ]
    },
    {
     "data": {
      "image/png": "[encoded data removed]",
      "text/plain": [
       "<Figure size 432x288 with 1 Axes>"
      ]
     },
     "metadata": {
      "needs_background": "light"
     },
     "output_type": "display_data"
    }
   ],
   "source": [
    "# look into null values\n",
    "\n",
    "null_values = consumption_df.isnull().sum().sort_values(ascending=False)\n",
    "print(null_values)\n",
    "\n",
    "# plot\n",
    "ax=sns.barplot(null_values.index,null_values.values)\n",
    "ax.set_xticklabels(ax.get_xticklabels(),rotation=90)\n",
    "plt.show()"
   ]
  },
  {
   "cell_type": "markdown",
   "metadata": {},
   "source": [
    "### Data visualization"
   ]
  },
  {
   "cell_type": "code",
   "execution_count": 8,
   "metadata": {},
   "outputs": [],
   "source": [
    "consumption_df.drop([\"specials\", \"refill_liters\", \"refill_gas\"], axis=1, inplace=True)"
   ]
  },
  {
   "cell_type": "code",
   "execution_count": 9,
   "metadata": {},
   "outputs": [],
   "source": [
    "consumption_df['temp_inside'].interpolate(method ='linear', limit_direction ='forward', inplace=True) "
   ]
  },
  {
   "cell_type": "code",
   "execution_count": 10,
   "metadata": {},
   "outputs": [
    {
     "data": {
      "text/plain": [
       "distance        False\n",
       "consume         False\n",
       "speed           False\n",
       "temp_inside     False\n",
       "temp_outside    False\n",
       "gas_type        False\n",
       "AC              False\n",
       "rain            False\n",
       "sun             False\n",
       "dtype: bool"
      ]
     },
     "execution_count": 10,
     "metadata": {},
     "output_type": "execute_result"
    }
   ],
   "source": [
    "consumption_df.isnull().any()"
   ]
  },
  {
   "cell_type": "code",
   "execution_count": 11,
   "metadata": {},
   "outputs": [
    {
     "name": "stdout",
     "output_type": "stream",
     "text": [
      "The average consumption with E10 is 4.93 liters\n",
      "The average consumption with SP98 is 4.9 liters\n"
     ]
    }
   ],
   "source": [
    "# fuel consume\n",
    "e10_consume_value = round(consumption_df[consumption_df['gas_type'] == 'E10']['consume'].mean(),2)\n",
    "sp98_consume_value = round(consumption_df[consumption_df['gas_type'] != 'E10']['consume'].mean(),2)\n",
    "\n",
    "print('The average consumption with E10 is {} liters'.format(e10_consume_value ))\n",
    "print('The average consumption with SP98 is {} liters'.format(sp98_consume_value))"
   ]
  },
  {
   "cell_type": "code",
   "execution_count": 12,
   "metadata": {},
   "outputs": [
    {
     "data": {
      "text/plain": [
       "Text(23.569588694852953, 0.5, 'consume [l/100km]')"
      ]
     },
     "execution_count": 12,
     "metadata": {},
     "output_type": "execute_result"
    },
    {
     "data": {
      "image/png": "[encoded data removed]",
      "text/plain": [
       "<Figure size 1040.08x576 with 1 Axes>"
      ]
     },
     "metadata": {
      "needs_background": "light"
     },
     "output_type": "display_data"
    }
   ],
   "source": [
    "# distance vs consume\n",
    "sns.lmplot(data = consumption_df, x = 'distance', y = 'consume', hue = 'gas_type', fit_reg=False, height=8,aspect=1.7)\n",
    "plt.xlabel('distance [Km]')\n",
    "plt.ylabel('consume [l/100km]')"
   ]
  },
  {
   "cell_type": "code",
   "execution_count": 13,
   "metadata": {},
   "outputs": [
    {
     "data": {
      "text/plain": [
       "Text(22.72790670955883, 0.5, 'consume [l/100km]')"
      ]
     },
     "execution_count": 13,
     "metadata": {},
     "output_type": "execute_result"
    },
    {
     "data": {
      "image/png": "[encoded data removed]",
      "text/plain": [
       "<Figure size 1021.57x576 with 1 Axes>"
      ]
     },
     "metadata": {
      "needs_background": "light"
     },
     "output_type": "display_data"
    }
   ],
   "source": [
    "# speed vs consume\n",
    "sns.lmplot(data = consumption_df, x = 'distance', y = 'consume', hue = 'AC', fit_reg=False, height=8,aspect=1.7)\n",
    "plt.xlabel('speed [Km/ hr]')\n",
    "plt.ylabel('consume [l/100km]')"
   ]
  },
  {
   "cell_type": "code",
   "execution_count": 14,
   "metadata": {},
   "outputs": [],
   "source": [
    "# replace categorical fuel type into one-hot encode\n",
    "df= pd.concat([consumption_df, pd.get_dummies(consumption_df['gas_type'], prefix = 'gas')], axis=1)\n",
    "\n",
    "# now drop the original 'country' column (you don't need it anymore)\n",
    "df.drop(['gas_type'],axis=1, inplace=True)"
   ]
  },
  {
   "cell_type": "markdown",
   "metadata": {},
   "source": [
    "#### based on observations, the feature columns: 'temp_outside', 'rain', 'sun' are been dropped"
   ]
  },
  {
   "cell_type": "code",
   "execution_count": 15,
   "metadata": {},
   "outputs": [],
   "source": [
    "X = df.drop(['consume', 'temp_outside', 'rain','sun', 'gas_SP98', 'AC'], axis =1)\n",
    "y = df['consume']"
   ]
  },
  {
   "cell_type": "code",
   "execution_count": 16,
   "metadata": {},
   "outputs": [
    {
     "data": {
      "image/png": "[encoded data removed]",
      "text/plain": [
       "<Figure size 1152x864 with 2 Axes>"
      ]
     },
     "metadata": {},
     "output_type": "display_data"
    }
   ],
   "source": [
    "# covariance matrix\n",
    "# Set the style of the visualization\n",
    "sns.set_style('white')\n",
    "\n",
    "# Create a convariance matrix\n",
    "corr = df.corr()\n",
    "\n",
    "# Generate a mask the size of our covariance matrix\n",
    "mask = np.zeros_like(corr)\n",
    "mask[np.triu_indices_from(mask)] = None\n",
    "\n",
    "# Set up the matplotlib figure\n",
    "fig, ax = plt.subplots(figsize=(16, 12))\n",
    "\n",
    "# Generate a custom diverging colormap\n",
    "cmap = sns.diverging_palette(240, 10, sep=25, n=5, as_cmap=True)\n",
    "\n",
    "# Draw the heatmapwith the mask and correct aspect ratio\n",
    "sns.heatmap(corr, cmap=cmap, mask=mask, square=True, annot=True)\n",
    "\n",
    "plt.show();"
   ]
  },
  {
   "cell_type": "code",
   "execution_count": 17,
   "metadata": {},
   "outputs": [],
   "source": [
    "from sklearn.preprocessing import MinMaxScaler\n",
    "from sklearn.model_selection import train_test_split\n",
    "from sklearn.model_selection import cross_validate, cross_val_predict, cross_val_score\n",
    "from sklearn.metrics import accuracy_score\n",
    "from sklearn.linear_model import LinearRegression\n",
    "from sklearn import metrics"
   ]
  },
  {
   "cell_type": "code",
   "execution_count": 18,
   "metadata": {},
   "outputs": [],
   "source": [
    "lr=LinearRegression()\n",
    "x_train,x_test,y_train,y_test=train_test_split(X,y,test_size=0.3,random_state=42)"
   ]
  },
  {
   "cell_type": "code",
   "execution_count": 20,
   "metadata": {},
   "outputs": [
    {
     "name": "stderr",
     "output_type": "stream",
     "text": [
      "D:\\anaconda\\lib\\site-packages\\sklearn\\preprocessing\\data.py:334: DataConversionWarning: Data with input dtype uint8, int64, float64 were all converted to float64 by MinMaxScaler.\n",
      "  return self.partial_fit(X, y)\n"
     ]
    }
   ],
   "source": [
    "scale = MinMaxScaler()\n",
    "s = scale.fit(x_train)\n",
    "x_train= s.transform(x_train)\n",
    "x_test= s.transform(x_test)"
   ]
  },
  {
   "cell_type": "code",
   "execution_count": 21,
   "metadata": {},
   "outputs": [
    {
     "data": {
      "text/plain": [
       "LinearRegression(copy_X=True, fit_intercept=True, n_jobs=None,\n",
       "         normalize=False)"
      ]
     },
     "execution_count": 21,
     "metadata": {},
     "output_type": "execute_result"
    }
   ],
   "source": [
    "lr.fit(x_train,y_train)"
   ]
  },
  {
   "cell_type": "code",
   "execution_count": 23,
   "metadata": {},
   "outputs": [
    {
     "name": "stdout",
     "output_type": "stream",
     "text": [
      "[5.17537561 5.18181207 5.11870882 5.18734494 4.76031097 4.62563539\n",
      " 4.64083686 5.18419886 4.99903356 5.07722538 4.35093221 4.92597299\n",
      " 5.61073321 4.49348851 5.33354845 5.21188033 5.51122223 5.20174852\n",
      " 5.65491632 5.49869376 4.30904612 4.65890308 4.93205528 5.2411943\n",
      " 5.16758447 4.79257812 4.5821689  4.85864912 5.0094019  3.68228793\n",
      " 5.00847047 5.35265766 5.0620093  4.73098005 4.45501282 4.83419007\n",
      " 4.71912463 4.21269213 5.25081559 5.5073509  4.69527809 5.02300004\n",
      " 5.37262918 3.91335995 4.69527809 4.89347047 5.29812432 5.02133247\n",
      " 5.4164776  4.67268325 5.14674326 5.36226083 5.20734682 5.37585898\n",
      " 4.61923887 4.84698664 5.74901204 5.25141602 4.8599456  5.31121607\n",
      " 5.42804194 5.20510315 4.67177968 5.2459474  4.57370592 4.87056508\n",
      " 5.40121674 4.8554012  4.82346271 4.25614614 4.45274995 4.61143077\n",
      " 5.16377856 5.2147402  5.18610785 5.23342127 5.18536683 5.07097698\n",
      " 5.29908242 4.90630948 5.16441775 4.4084853  4.75289092 4.49250861\n",
      " 4.71868207 4.42384581 5.73290817 4.71674641 5.1883007  4.77641485\n",
      " 4.86087468 4.70745612 5.04066849 4.03539651 4.43226641 5.28087547\n",
      " 4.96235404 5.12034855 5.11870882 5.11709576 5.18859663 3.96615542\n",
      " 4.90763264 4.81547259 5.22130517 4.71073558 4.20790632 4.79313727\n",
      " 5.47469202 5.65854508 5.01165414 4.98778696 5.47088378 5.37106948\n",
      " 4.73037358 5.30528719 5.21788511]\n"
     ]
    }
   ],
   "source": [
    "y_pred=lr.predict(x_test)\n",
    "print(y_pred)"
   ]
  },
  {
   "cell_type": "code",
   "execution_count": 24,
   "metadata": {},
   "outputs": [
    {
     "name": "stdout",
     "output_type": "stream",
     "text": [
      "0.948698383738977\n"
     ]
    }
   ],
   "source": [
    "print(np.sqrt(metrics.mean_squared_error(y_test,y_pred)))"
   ]
  },
  {
   "cell_type": "code",
   "execution_count": 25,
   "metadata": {},
   "outputs": [
    {
     "name": "stdout",
     "output_type": "stream",
     "text": [
      "MAE: 0.7115941764360242\n",
      "MSE: 0.9000286233089473\n",
      "RMSE: 0.948698383738977\n"
     ]
    }
   ],
   "source": [
    "print('MAE: ' + str(metrics.mean_absolute_error(y_pred,y_test)))\n",
    "print('MSE: ' + str(metrics.mean_squared_error(y_pred,y_test)))\n",
    "print('RMSE: ' + str(np.sqrt(metrics.mean_squared_error(y_pred,y_test))))"
   ]
  },
  {
   "cell_type": "code",
   "execution_count": null,
   "metadata": {},
   "outputs": [],
   "source": []
  }
 ],
 "metadata": {
  "kernelspec": {
   "display_name": "Python 3",
   "language": "python",
   "name": "python3"
  },
  "language_info": {
   "codemirror_mode": {
    "name": "ipython",
    "version": 3
   },
   "file_extension": ".py",
   "mimetype": "text/x-python",
   "name": "python",
   "nbconvert_exporter": "python",
   "pygments_lexer": "ipython3",
   "version": "3.7.3"
  }
 },
 "nbformat": 4,
 "nbformat_minor": 2
}
